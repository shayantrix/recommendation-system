{
 "cells": [
  {
   "cell_type": "markdown",
   "id": "bf7db742-360a-43ab-9a31-389e454fdd7d",
   "metadata": {},
   "source": [
    "# Recommendation System (Collaborative Filtering)"
   ]
  },
  {
   "cell_type": "markdown",
   "id": "adf2d977-cb4f-4d2a-99a2-a37c8340cc51",
   "metadata": {},
   "source": [
    "## Libraries"
   ]
  },
  {
   "cell_type": "code",
   "execution_count": 6,
   "id": "9c5c4d9a-e93c-41c8-a957-8e93dd3e2092",
   "metadata": {},
   "outputs": [
    {
     "name": "stdout",
     "output_type": "stream",
     "text": [
      "cuda\n"
     ]
    }
   ],
   "source": [
    "#hide\n",
    "device = 'cuda' if torch.cuda.is_available() else 'cpu'\n",
    "print(device)"
   ]
  },
  {
   "cell_type": "code",
   "execution_count": 5,
   "id": "bbb894e9-dc1f-4162-a95b-9b8077b7d011",
   "metadata": {},
   "outputs": [],
   "source": [
    "from fastai.collab import *\n",
    "from fastai.tabular.all import *\n",
    "import pandas as pd\n",
    "import numpy as np\n",
    "import matplotlib.pyplot as plt"
   ]
  },
  {
   "cell_type": "markdown",
   "id": "e6d81822-ff89-41b2-9c83-dd3130459527",
   "metadata": {},
   "source": [
    "### Loading the dataset"
   ]
  },
  {
   "cell_type": "code",
   "execution_count": 10,
   "id": "a3ff3c54-c2c7-47b4-81b6-efe05d37fa55",
   "metadata": {},
   "outputs": [
    {
     "name": "stderr",
     "output_type": "stream",
     "text": [
      "C:\\Users\\Asus\\AppData\\Local\\Temp\\ipykernel_20388\\2388027026.py:7: DtypeWarning: Columns (0,2) have mixed types. Specify dtype option on import or set low_memory=False.\n",
      "  ratings = pd.read_csv('BookRating/Ratings.csv/Ratings.csv', delimiter=',', encoding='latin-1',\n"
     ]
    }
   ],
   "source": [
    "books = pd.read_csv('BookRating/Books.csv/Books.csv', delimiter=',', encoding='latin-1',\n",
    "                    usecols=(0,1), names=('ISBN', 'bookTitle'), header=None)\n",
    "\n",
    "users = pd.read_csv('BookRating/Users.csv/Users.csv', delimiter=',', encoding='latin-1', usecols=(0,))\n",
    "users.columns = ['userID']\n",
    "\n",
    "ratings = pd.read_csv('BookRating/Ratings.csv/Ratings.csv', delimiter=',', encoding='latin-1',\n",
    "                      usecols=(0,1,2), names=('userID', 'ISBN', 'bookRating'), header=None)"
   ]
  },
  {
   "cell_type": "code",
   "execution_count": 11,
   "id": "9cc451c1-8b1a-44b3-b175-3066ac0f61e5",
   "metadata": {},
   "outputs": [
    {
     "data": {
      "text/html": [
       "<div>\n",
       "<style scoped>\n",
       "    .dataframe tbody tr th:only-of-type {\n",
       "        vertical-align: middle;\n",
       "    }\n",
       "\n",
       "    .dataframe tbody tr th {\n",
       "        vertical-align: top;\n",
       "    }\n",
       "\n",
       "    .dataframe thead th {\n",
       "        text-align: right;\n",
       "    }\n",
       "</style>\n",
       "<table border=\"1\" class=\"dataframe\">\n",
       "  <thead>\n",
       "    <tr style=\"text-align: right;\">\n",
       "      <th></th>\n",
       "      <th>userID</th>\n",
       "      <th>ISBN</th>\n",
       "      <th>bookRating</th>\n",
       "    </tr>\n",
       "  </thead>\n",
       "  <tbody>\n",
       "    <tr>\n",
       "      <th>0</th>\n",
       "      <td>User-ID</td>\n",
       "      <td>ISBN</td>\n",
       "      <td>Book-Rating</td>\n",
       "    </tr>\n",
       "    <tr>\n",
       "      <th>1</th>\n",
       "      <td>276725</td>\n",
       "      <td>034545104X</td>\n",
       "      <td>0</td>\n",
       "    </tr>\n",
       "    <tr>\n",
       "      <th>2</th>\n",
       "      <td>276726</td>\n",
       "      <td>0155061224</td>\n",
       "      <td>5</td>\n",
       "    </tr>\n",
       "    <tr>\n",
       "      <th>3</th>\n",
       "      <td>276727</td>\n",
       "      <td>0446520802</td>\n",
       "      <td>0</td>\n",
       "    </tr>\n",
       "    <tr>\n",
       "      <th>4</th>\n",
       "      <td>276729</td>\n",
       "      <td>052165615X</td>\n",
       "      <td>3</td>\n",
       "    </tr>\n",
       "  </tbody>\n",
       "</table>\n",
       "</div>"
      ],
      "text/plain": [
       "    userID        ISBN   bookRating\n",
       "0  User-ID        ISBN  Book-Rating\n",
       "1   276725  034545104X            0\n",
       "2   276726  0155061224            5\n",
       "3   276727  0446520802            0\n",
       "4   276729  052165615X            3"
      ]
     },
     "execution_count": 11,
     "metadata": {},
     "output_type": "execute_result"
    }
   ],
   "source": [
    "# show head of ratings\n",
    "ratings.head()"
   ]
  },
  {
   "cell_type": "code",
   "execution_count": 13,
   "id": "01435180-9da0-46f8-9d2e-b476bc51660e",
   "metadata": {},
   "outputs": [],
   "source": [
    "# Remove the first row of data in ratings as it is junk data\n",
    "ratings = ratings.iloc[1:]\n",
    "ratings['bookRating'] = pd.to_numeric(ratings['bookRating'])"
   ]
  },
  {
   "cell_type": "code",
   "execution_count": 15,
   "id": "13dc388b-6c73-4e10-80f1-657ba9b1dc5f",
   "metadata": {},
   "outputs": [
    {
     "data": {
      "text/html": [
       "<div>\n",
       "<style scoped>\n",
       "    .dataframe tbody tr th:only-of-type {\n",
       "        vertical-align: middle;\n",
       "    }\n",
       "\n",
       "    .dataframe tbody tr th {\n",
       "        vertical-align: top;\n",
       "    }\n",
       "\n",
       "    .dataframe thead th {\n",
       "        text-align: right;\n",
       "    }\n",
       "</style>\n",
       "<table border=\"1\" class=\"dataframe\">\n",
       "  <thead>\n",
       "    <tr style=\"text-align: right;\">\n",
       "      <th></th>\n",
       "      <th>userID</th>\n",
       "      <th>ISBN</th>\n",
       "      <th>bookRating</th>\n",
       "    </tr>\n",
       "  </thead>\n",
       "  <tbody>\n",
       "    <tr>\n",
       "      <th>1</th>\n",
       "      <td>276725</td>\n",
       "      <td>034545104X</td>\n",
       "      <td>0</td>\n",
       "    </tr>\n",
       "    <tr>\n",
       "      <th>2</th>\n",
       "      <td>276726</td>\n",
       "      <td>0155061224</td>\n",
       "      <td>5</td>\n",
       "    </tr>\n",
       "    <tr>\n",
       "      <th>3</th>\n",
       "      <td>276727</td>\n",
       "      <td>0446520802</td>\n",
       "      <td>0</td>\n",
       "    </tr>\n",
       "    <tr>\n",
       "      <th>4</th>\n",
       "      <td>276729</td>\n",
       "      <td>052165615X</td>\n",
       "      <td>3</td>\n",
       "    </tr>\n",
       "    <tr>\n",
       "      <th>5</th>\n",
       "      <td>276729</td>\n",
       "      <td>0521795028</td>\n",
       "      <td>6</td>\n",
       "    </tr>\n",
       "  </tbody>\n",
       "</table>\n",
       "</div>"
      ],
      "text/plain": [
       "   userID        ISBN  bookRating\n",
       "1  276725  034545104X           0\n",
       "2  276726  0155061224           5\n",
       "3  276727  0446520802           0\n",
       "4  276729  052165615X           3\n",
       "5  276729  0521795028           6"
      ]
     },
     "execution_count": 15,
     "metadata": {},
     "output_type": "execute_result"
    }
   ],
   "source": [
    "# The first line (0) containing junk data is gone\n",
    "ratings.head()"
   ]
  },
  {
   "cell_type": "markdown",
   "id": "c4a5b6e2-159f-464d-8936-5f2d7703b36a",
   "metadata": {},
   "source": [
    "## Data Preprocessing"
   ]
  },
  {
   "cell_type": "code",
   "execution_count": 17,
   "id": "e96d85e0-9b71-4e3f-8d98-f35dac6fb627",
   "metadata": {},
   "outputs": [
    {
     "data": {
      "text/html": [
       "<div>\n",
       "<style scoped>\n",
       "    .dataframe tbody tr th:only-of-type {\n",
       "        vertical-align: middle;\n",
       "    }\n",
       "\n",
       "    .dataframe tbody tr th {\n",
       "        vertical-align: top;\n",
       "    }\n",
       "\n",
       "    .dataframe thead th {\n",
       "        text-align: right;\n",
       "    }\n",
       "</style>\n",
       "<table border=\"1\" class=\"dataframe\">\n",
       "  <thead>\n",
       "    <tr style=\"text-align: right;\">\n",
       "      <th></th>\n",
       "      <th>userID</th>\n",
       "      <th>ISBN</th>\n",
       "      <th>bookRating</th>\n",
       "      <th>bookTitle</th>\n",
       "    </tr>\n",
       "  </thead>\n",
       "  <tbody>\n",
       "    <tr>\n",
       "      <th>0</th>\n",
       "      <td>276725</td>\n",
       "      <td>034545104X</td>\n",
       "      <td>0</td>\n",
       "      <td>Flesh Tones: A Novel</td>\n",
       "    </tr>\n",
       "    <tr>\n",
       "      <th>1</th>\n",
       "      <td>276726</td>\n",
       "      <td>0155061224</td>\n",
       "      <td>5</td>\n",
       "      <td>Rites of Passage</td>\n",
       "    </tr>\n",
       "    <tr>\n",
       "      <th>2</th>\n",
       "      <td>276727</td>\n",
       "      <td>0446520802</td>\n",
       "      <td>0</td>\n",
       "      <td>The Notebook</td>\n",
       "    </tr>\n",
       "    <tr>\n",
       "      <th>3</th>\n",
       "      <td>276729</td>\n",
       "      <td>052165615X</td>\n",
       "      <td>3</td>\n",
       "      <td>Help!: Level 1</td>\n",
       "    </tr>\n",
       "    <tr>\n",
       "      <th>4</th>\n",
       "      <td>276729</td>\n",
       "      <td>0521795028</td>\n",
       "      <td>6</td>\n",
       "      <td>The Amsterdam Connection : Level 4 (Cambridge English Readers)</td>\n",
       "    </tr>\n",
       "  </tbody>\n",
       "</table>\n",
       "</div>"
      ],
      "text/plain": [
       "   userID        ISBN  bookRating  \\\n",
       "0  276725  034545104X           0   \n",
       "1  276726  0155061224           5   \n",
       "2  276727  0446520802           0   \n",
       "3  276729  052165615X           3   \n",
       "4  276729  0521795028           6   \n",
       "\n",
       "                                                        bookTitle  \n",
       "0                                            Flesh Tones: A Novel  \n",
       "1                                                Rites of Passage  \n",
       "2                                                    The Notebook  \n",
       "3                                                  Help!: Level 1  \n",
       "4  The Amsterdam Connection : Level 4 (Cambridge English Readers)  "
      ]
     },
     "execution_count": 17,
     "metadata": {},
     "output_type": "execute_result"
    }
   ],
   "source": [
    "# For training our dataframe we need to merge, ratings and books to have \"userID, ISBN, bookRating, bookTitle\" in a dataframe\n",
    "ratings = ratings.merge(books)\n",
    "ratings.head()"
   ]
  },
  {
   "cell_type": "markdown",
   "id": "905ea5bd-82eb-4360-af5d-7f90d4f64f87",
   "metadata": {},
   "source": [
    "##### Now our dataset is ready for first training atempt"
   ]
  },
  {
   "cell_type": "markdown",
   "id": "dbfda3b7-521b-4f1e-99ad-e52d5f0f5daf",
   "metadata": {},
   "source": [
    "## DataLoader"
   ]
  },
  {
   "cell_type": "code",
   "execution_count": 19,
   "id": "fa909b33-cc03-4ce0-98ea-bbfefeebe6ad",
   "metadata": {},
   "outputs": [
    {
     "data": {
      "text/html": [
       "<table border=\"1\" class=\"dataframe\">\n",
       "  <thead>\n",
       "    <tr style=\"text-align: right;\">\n",
       "      <th></th>\n",
       "      <th>userID</th>\n",
       "      <th>bookTitle</th>\n",
       "      <th>bookRating</th>\n",
       "    </tr>\n",
       "  </thead>\n",
       "  <tbody>\n",
       "    <tr>\n",
       "      <th>0</th>\n",
       "      <td>31609</td>\n",
       "      <td>Middlesex: A Novel</td>\n",
       "      <td>9</td>\n",
       "    </tr>\n",
       "    <tr>\n",
       "      <th>1</th>\n",
       "      <td>218187</td>\n",
       "      <td>La cautiva de Tordesillas</td>\n",
       "      <td>0</td>\n",
       "    </tr>\n",
       "    <tr>\n",
       "      <th>2</th>\n",
       "      <td>270211</td>\n",
       "      <td>Fatal Flaw</td>\n",
       "      <td>0</td>\n",
       "    </tr>\n",
       "    <tr>\n",
       "      <th>3</th>\n",
       "      <td>16795</td>\n",
       "      <td>Paradise Junction</td>\n",
       "      <td>0</td>\n",
       "    </tr>\n",
       "    <tr>\n",
       "      <th>4</th>\n",
       "      <td>223201</td>\n",
       "      <td>TO LOVE AND BE WISE</td>\n",
       "      <td>0</td>\n",
       "    </tr>\n",
       "    <tr>\n",
       "      <th>5</th>\n",
       "      <td>131855</td>\n",
       "      <td>7 Keys of Charisma: Unlocking the Secrets of Those Who Have It</td>\n",
       "      <td>0</td>\n",
       "    </tr>\n",
       "    <tr>\n",
       "      <th>6</th>\n",
       "      <td>47925</td>\n",
       "      <td>Exit to Eden</td>\n",
       "      <td>5</td>\n",
       "    </tr>\n",
       "    <tr>\n",
       "      <th>7</th>\n",
       "      <td>261829</td>\n",
       "      <td>Reading Lolita in Tehran: A Memoir in Books</td>\n",
       "      <td>0</td>\n",
       "    </tr>\n",
       "    <tr>\n",
       "      <th>8</th>\n",
       "      <td>171076</td>\n",
       "      <td>Incredible Universe</td>\n",
       "      <td>0</td>\n",
       "    </tr>\n",
       "    <tr>\n",
       "      <th>9</th>\n",
       "      <td>238781</td>\n",
       "      <td>Surprise Delivery (That'S My Baby) (Silhouette Special Edition, 1273)</td>\n",
       "      <td>0</td>\n",
       "    </tr>\n",
       "  </tbody>\n",
       "</table>"
      ],
      "text/plain": [
       "<IPython.core.display.HTML object>"
      ]
     },
     "metadata": {},
     "output_type": "display_data"
    }
   ],
   "source": [
    "# Using fastai's CollabDataLoaders.from_df for our dataloader\n",
    "dls = CollabDataLoaders.from_df(ratings, user_name='userID', item_name='bookTitle', rating_name='bookRating', bs=64)\n",
    "dls.show_batch()"
   ]
  },
  {
   "cell_type": "markdown",
   "id": "3eb76435-11f2-4663-9193-3498256f0be0",
   "metadata": {},
   "source": [
    "The basic structure of my model is SGD (stochastic gradient descent). I need to initialize some random parameters as a set of latent factors for users and books."
   ]
  },
  {
   "cell_type": "markdown",
   "id": "3a18c6a8-6859-41ea-9338-7a7ac795d64e",
   "metadata": {},
   "source": [
    "Step 1) Define latent factors (Parameters)\n",
    "\n",
    "step 2) Calculate the predictions using \"Dot Product\" of latent factors of users and books\n",
    "\n",
    "step 3) Calculate the loss"
   ]
  },
  {
   "cell_type": "code",
   "execution_count": 21,
   "id": "32f38b89-5aa6-4f4d-ac1a-d74533336829",
   "metadata": {},
   "outputs": [],
   "source": [
    "# our latent factors\n",
    "n_users = len(dls.classes['userID'])\n",
    "n_books = len(dls.classes['bookTitle'])\n",
    "n_factors = 5\n",
    "\n",
    "# n_factors = N, shows that we have N layers of random numbers of that latent factors\n",
    "# in this example we have 5 layers of user's latent factors and 5 layers of books' latent factors\n",
    "users_factors = torch.randn(n_users, n_factors)\n",
    "books_factors = torch.randn(n_books, n_factors)"
   ]
  },
  {
   "cell_type": "markdown",
   "id": "e66f603a-6003-4170-a858-15479ab5f828",
   "metadata": {},
   "source": [
    "## Model"
   ]
  },
  {
   "cell_type": "markdown",
   "id": "8f57ab71-a924-4ba3-9e2d-05518bfc3383",
   "metadata": {},
   "source": [
    "Our model is a basic SGD with some enhancements (a PyTorch module). First, the argument y_range is defined by the range of the ratings (0-10). Second, I used Embedding for defining the users' factors and biases. Third, When our pytorch module is called, Pytorch will call a method **forward** and will pass along to that any parameters that are included in the call. Model will first calculate the dot product of factors (parameters), then calculate the bias, and at the end return the sigmoid with a range of ratings."
   ]
  },
  {
   "cell_type": "code",
   "execution_count": 23,
   "id": "8d0db157-a0b7-4910-9339-74c20b26cb36",
   "metadata": {},
   "outputs": [],
   "source": [
    "class DotProduct(Module):\n",
    "  def __init__(self, n_users, n_books, n_factors, y_range=(0, 10.1)):\n",
    "    self.users_factors = Embedding(n_users, n_factors)\n",
    "    self.books_factors = Embedding(n_books, n_factors)\n",
    "    self.users_bias = Embedding(n_users, 1)\n",
    "    self.books_bias = Embedding(n_books, 1)\n",
    "    self.y_range = y_range\n",
    "\n",
    "  def forward(self, x):\n",
    "    users = self.users_factors(x[:, 0])\n",
    "    books = self.books_factors(x[:, 1])\n",
    "    res = ((users * books).sum(dim=1, keepdim=True))\n",
    "    res += self.users_bias(x[:, 0]) + self.books_bias(x[:, 1])\n",
    "    return sigmoid_range(res, *self.y_range)"
   ]
  },
  {
   "cell_type": "markdown",
   "id": "91d3503a-6c43-4dd1-984e-5d2623d531fe",
   "metadata": {},
   "source": [
    "## Training"
   ]
  },
  {
   "cell_type": "code",
   "execution_count": 25,
   "id": "67021866-7e11-4688-b7ae-184406477d62",
   "metadata": {},
   "outputs": [
    {
     "data": {
      "text/html": [
       "\n",
       "<style>\n",
       "    /* Turns off some styling */\n",
       "    progress {\n",
       "        /* gets rid of default border in Firefox and Opera. */\n",
       "        border: none;\n",
       "        /* Needs to be in here for Safari polyfill so background images work as expected. */\n",
       "        background-size: auto;\n",
       "    }\n",
       "    progress:not([value]), progress:not([value])::-webkit-progress-bar {\n",
       "        background: repeating-linear-gradient(45deg, #7e7e7e, #7e7e7e 10px, #5c5c5c 10px, #5c5c5c 20px);\n",
       "    }\n",
       "    .progress-bar-interrupted, .progress-bar-interrupted::-webkit-progress-bar {\n",
       "        background: #F44336;\n",
       "    }\n",
       "</style>\n"
      ],
      "text/plain": [
       "<IPython.core.display.HTML object>"
      ]
     },
     "metadata": {},
     "output_type": "display_data"
    },
    {
     "data": {
      "text/html": [
       "<table border=\"1\" class=\"dataframe\">\n",
       "  <thead>\n",
       "    <tr style=\"text-align: left;\">\n",
       "      <th>epoch</th>\n",
       "      <th>train_loss</th>\n",
       "      <th>valid_loss</th>\n",
       "      <th>time</th>\n",
       "    </tr>\n",
       "  </thead>\n",
       "  <tbody>\n",
       "    <tr>\n",
       "      <td>0</td>\n",
       "      <td>14.146245</td>\n",
       "      <td>14.529581</td>\n",
       "      <td>02:04</td>\n",
       "    </tr>\n",
       "    <tr>\n",
       "      <td>1</td>\n",
       "      <td>14.260515</td>\n",
       "      <td>14.614294</td>\n",
       "      <td>02:03</td>\n",
       "    </tr>\n",
       "    <tr>\n",
       "      <td>2</td>\n",
       "      <td>14.037701</td>\n",
       "      <td>14.621320</td>\n",
       "      <td>02:03</td>\n",
       "    </tr>\n",
       "    <tr>\n",
       "      <td>3</td>\n",
       "      <td>14.059900</td>\n",
       "      <td>14.477343</td>\n",
       "      <td>02:03</td>\n",
       "    </tr>\n",
       "    <tr>\n",
       "      <td>4</td>\n",
       "      <td>13.985012</td>\n",
       "      <td>14.295668</td>\n",
       "      <td>02:04</td>\n",
       "    </tr>\n",
       "    <tr>\n",
       "      <td>5</td>\n",
       "      <td>13.338450</td>\n",
       "      <td>14.141809</td>\n",
       "      <td>02:04</td>\n",
       "    </tr>\n",
       "    <tr>\n",
       "      <td>6</td>\n",
       "      <td>13.649458</td>\n",
       "      <td>14.098104</td>\n",
       "      <td>02:12</td>\n",
       "    </tr>\n",
       "  </tbody>\n",
       "</table>"
      ],
      "text/plain": [
       "<IPython.core.display.HTML object>"
      ]
     },
     "metadata": {},
     "output_type": "display_data"
    }
   ],
   "source": [
    "model = DotProduct(n_users, n_books, 50)\n",
    "learn = Learner(dls, model, loss_func=MSELossFlat())\n",
    "learn.fit_one_cycle(7, 5e-3, wd=0.2)"
   ]
  },
  {
   "cell_type": "markdown",
   "id": "fdb5c89a-128d-4cd8-a04f-d8749b50c86a",
   "metadata": {},
   "source": [
    "Seeing this result forced me to go deeper into our ratings dataset"
   ]
  },
  {
   "cell_type": "code",
   "execution_count": 26,
   "id": "46ccaf6a-8bda-4b5b-ba12-f2f6def10f36",
   "metadata": {},
   "outputs": [
    {
     "data": {
      "text/plain": [
       "Counter({0: 647294,\n",
       "         8: 91804,\n",
       "         10: 71225,\n",
       "         7: 66402,\n",
       "         9: 60778,\n",
       "         5: 45355,\n",
       "         6: 31687,\n",
       "         4: 7617,\n",
       "         3: 5118,\n",
       "         2: 2375,\n",
       "         1: 1481})"
      ]
     },
     "execution_count": 26,
     "metadata": {},
     "output_type": "execute_result"
    }
   ],
   "source": [
    "Counter(ratings['bookRating'])"
   ]
  },
  {
   "cell_type": "markdown",
   "id": "0b90e0b1-e396-4bc1-a507-9061c0589125",
   "metadata": {},
   "source": [
    "As we can see, the number of zeros (0) are so much more than other ratings almost 47% of our ratings belongs to our friend \"0\"."
   ]
  },
  {
   "cell_type": "markdown",
   "id": "0d38e454-ef41-40fe-a0d0-f0e0613528b6",
   "metadata": {},
   "source": [
    "First, I tried to reduce the number of zeros in our dataset which was a basic solution. Giving us better valid_loss, but still sth around 7.4 is not the valid_loss we look for. Then I tried weighted ratings, meaning that giving **lower weights** to the ratings that are **more** in our dataset, like **\"0\"** and **higher weights** to the ratings that are **less** in our dataset, like \"2\". My first attempt was a waste , but as I normalized the weights, the results became fascinating. "
   ]
  },
  {
   "cell_type": "markdown",
   "id": "bc905a10-3d56-4944-ba43-b9fe613599dc",
   "metadata": {},
   "source": [
    "For this to be achievable in fastai, I should use my own loss_function"
   ]
  },
  {
   "cell_type": "markdown",
   "id": "50ededf5-ed6c-45bb-ab45-95d8091a9829",
   "metadata": {},
   "source": [
    "### The real part starts here"
   ]
  },
  {
   "cell_type": "markdown",
   "id": "ad588492-3195-4d7a-bbe7-ece94c61aa73",
   "metadata": {},
   "source": [
    "## Weights"
   ]
  },
  {
   "cell_type": "code",
   "execution_count": 34,
   "id": "7cfb30d9-fc6f-4b91-98a3-e20e2efdb169",
   "metadata": {},
   "outputs": [],
   "source": [
    "rating_counts = Counter(ratings['bookRating'])\n",
    "\n",
    "# Give them weights based on their appearence count in the dataset\n",
    "total = sum(rating_counts.values())\n",
    "weights = {k: total / (v * len(rating_counts)) for k, v in rating_counts.items()}\n",
    "\n",
    "weight_tensor = torch.tensor([weights[i] for i in range(11)], dtype=torch.float32)\n",
    "\n",
    "weight_tensor /= weight_tensor.sum()  # Normalize to sum to 1"
   ]
  },
  {
   "cell_type": "markdown",
   "id": "aad9edb5-f09e-4c08-974c-37cf2ed7cb01",
   "metadata": {},
   "source": [
    "## Loss Function"
   ]
  },
  {
   "cell_type": "code",
   "execution_count": 37,
   "id": "d480d5fb-0056-42e9-b8c0-8f329b66294f",
   "metadata": {},
   "outputs": [],
   "source": [
    "class WeightedMSELoss:\n",
    "    def __init__(self, weights):\n",
    "        # defining weights for each rating number\n",
    "        # weights: tensor of shape (n_ratings,)\n",
    "        self.weights = weights\n",
    "    def __call__(self, input, target):\n",
    "        # input: model predictions (batch_size, 1)\n",
    "        # target: true ratings (batch_size)\n",
    "        device = target.device\n",
    "        weights = self.weights.to(device)\n",
    "        # I had a problem with device as I am training on Cuda and there was a conflict in the process\n",
    "        target_long = target.long().squeeze()\n",
    "        diff = (input.squeeze() - target.squeeze()) ** 2\n",
    "\n",
    "        # Apply weights based on the portion of ratings\n",
    "        batch_weights = weights[target_long]\n",
    "        weighted_diff = diff * batch_weights\n",
    "\n",
    "        # return the weighted mean squared of differences\n",
    "        return weighted_diff.mean()"
   ]
  },
  {
   "cell_type": "markdown",
   "id": "67fb5392-7aa0-4978-be44-74b95a12c7fa",
   "metadata": {},
   "source": [
    "# Train"
   ]
  },
  {
   "cell_type": "code",
   "execution_count": 38,
   "id": "f429d7e0-dd84-4388-a08a-54437185b2f6",
   "metadata": {},
   "outputs": [
    {
     "data": {
      "text/html": [
       "\n",
       "<style>\n",
       "    /* Turns off some styling */\n",
       "    progress {\n",
       "        /* gets rid of default border in Firefox and Opera. */\n",
       "        border: none;\n",
       "        /* Needs to be in here for Safari polyfill so background images work as expected. */\n",
       "        background-size: auto;\n",
       "    }\n",
       "    progress:not([value]), progress:not([value])::-webkit-progress-bar {\n",
       "        background: repeating-linear-gradient(45deg, #7e7e7e, #7e7e7e 10px, #5c5c5c 10px, #5c5c5c 20px);\n",
       "    }\n",
       "    .progress-bar-interrupted, .progress-bar-interrupted::-webkit-progress-bar {\n",
       "        background: #F44336;\n",
       "    }\n",
       "</style>\n"
      ],
      "text/plain": [
       "<IPython.core.display.HTML object>"
      ]
     },
     "metadata": {},
     "output_type": "display_data"
    },
    {
     "data": {
      "text/html": [
       "<table border=\"1\" class=\"dataframe\">\n",
       "  <thead>\n",
       "    <tr style=\"text-align: left;\">\n",
       "      <th>epoch</th>\n",
       "      <th>train_loss</th>\n",
       "      <th>valid_loss</th>\n",
       "      <th>time</th>\n",
       "    </tr>\n",
       "  </thead>\n",
       "  <tbody>\n",
       "    <tr>\n",
       "      <td>0</td>\n",
       "      <td>0.059279</td>\n",
       "      <td>0.063556</td>\n",
       "      <td>02:08</td>\n",
       "    </tr>\n",
       "    <tr>\n",
       "      <td>1</td>\n",
       "      <td>0.061095</td>\n",
       "      <td>0.063083</td>\n",
       "      <td>02:03</td>\n",
       "    </tr>\n",
       "    <tr>\n",
       "      <td>2</td>\n",
       "      <td>0.056069</td>\n",
       "      <td>0.062960</td>\n",
       "      <td>02:00</td>\n",
       "    </tr>\n",
       "    <tr>\n",
       "      <td>3</td>\n",
       "      <td>0.064849</td>\n",
       "      <td>0.062882</td>\n",
       "      <td>02:00</td>\n",
       "    </tr>\n",
       "    <tr>\n",
       "      <td>4</td>\n",
       "      <td>0.055771</td>\n",
       "      <td>0.062835</td>\n",
       "      <td>01:59</td>\n",
       "    </tr>\n",
       "  </tbody>\n",
       "</table>"
      ],
      "text/plain": [
       "<IPython.core.display.HTML object>"
      ]
     },
     "metadata": {},
     "output_type": "display_data"
    }
   ],
   "source": [
    "model = DotProduct(n_users, n_books, 50)\n",
    "loss_func = WeightedMSELoss(weight_tensor)\n",
    "learn = Learner(dls, model, loss_func=loss_func)\n",
    "\n",
    "learn.fit_one_cycle(5, 5e-3, wd=0.1)"
   ]
  },
  {
   "cell_type": "markdown",
   "id": "5aeb8e10-992d-4194-9237-c462a648d659",
   "metadata": {},
   "source": [
    "As you can see our valid_loss and train_loss are showing good results, so we can head to exporting our model and using it in Gradio."
   ]
  },
  {
   "cell_type": "code",
   "execution_count": 39,
   "id": "99d5d1ad-ea6f-4368-8f67-f59c924327ca",
   "metadata": {},
   "outputs": [],
   "source": [
    "learn.export('recommendation_model.pkl')"
   ]
  },
  {
   "cell_type": "code",
   "execution_count": 40,
   "id": "e22ced2c-a760-4be6-8beb-57e1291e84b3",
   "metadata": {},
   "outputs": [
    {
     "data": {
      "text/plain": [
       "Path('.')"
      ]
     },
     "execution_count": 40,
     "metadata": {},
     "output_type": "execute_result"
    }
   ],
   "source": [
    "learn.path"
   ]
  },
  {
   "cell_type": "code",
   "execution_count": 41,
   "id": "68be43a2-f0b1-4d27-8e17-26657503dce0",
   "metadata": {},
   "outputs": [],
   "source": [
    "torch.save(model.state_dict(), 'recommendation_model.pth')"
   ]
  },
  {
   "cell_type": "code",
   "execution_count": null,
   "id": "0202f23d-ef30-4235-b64e-1224294d18cb",
   "metadata": {},
   "outputs": [],
   "source": []
  }
 ],
 "metadata": {
  "kernelspec": {
   "display_name": "Python 3 (ipykernel)",
   "language": "python",
   "name": "python3"
  },
  "language_info": {
   "codemirror_mode": {
    "name": "ipython",
    "version": 3
   },
   "file_extension": ".py",
   "mimetype": "text/x-python",
   "name": "python",
   "nbconvert_exporter": "python",
   "pygments_lexer": "ipython3",
   "version": "3.12.2"
  }
 },
 "nbformat": 4,
 "nbformat_minor": 5
}
